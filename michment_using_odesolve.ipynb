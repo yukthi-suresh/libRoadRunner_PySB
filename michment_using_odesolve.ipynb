{
 "cells": [
  {
   "cell_type": "code",
   "execution_count": 1,
   "id": "6703c009",
   "metadata": {},
   "outputs": [],
   "source": [
    "## A simple Michaelis-Menten two-step enzyme catalysis model in PySB"
   ]
  },
  {
   "cell_type": "code",
   "execution_count": 2,
   "id": "4b296257",
   "metadata": {},
   "outputs": [],
   "source": [
    "from pysb import *"
   ]
  },
  {
   "cell_type": "code",
   "execution_count": 3,
   "id": "b0a8f5a1",
   "metadata": {},
   "outputs": [
    {
     "data": {
      "text/plain": [
       "<Model '_interactive_' (monomers: 0, rules: 0, parameters: 0, expressions: 0, compartments: 0) at 0x7fd185b366d0>"
      ]
     },
     "execution_count": 3,
     "metadata": {},
     "output_type": "execute_result"
    }
   ],
   "source": [
    "Model()"
   ]
  },
  {
   "cell_type": "code",
   "execution_count": 4,
   "id": "1d5a973a",
   "metadata": {},
   "outputs": [
    {
     "data": {
      "text/plain": [
       "Monomer('enzyme', ['binding1'])"
      ]
     },
     "execution_count": 4,
     "metadata": {},
     "output_type": "execute_result"
    }
   ],
   "source": [
    "Monomer('enzyme', ['binding1'])"
   ]
  },
  {
   "cell_type": "code",
   "execution_count": 5,
   "id": "14a6db0f",
   "metadata": {},
   "outputs": [
    {
     "data": {
      "text/plain": [
       "Monomer('protein', ['binding', 'state'], {'state': ['sub', 'pro']})"
      ]
     },
     "execution_count": 5,
     "metadata": {},
     "output_type": "execute_result"
    }
   ],
   "source": [
    "Monomer('protein', ['binding', 'state'], {'state': ['sub','pro']})"
   ]
  },
  {
   "cell_type": "code",
   "execution_count": 6,
   "id": "bdb878e0",
   "metadata": {},
   "outputs": [
    {
     "data": {
      "text/latex": [
       "$\\displaystyle kc$"
      ],
      "text/plain": [
       "Parameter('kc', 0.002)"
      ]
     },
     "execution_count": 6,
     "metadata": {},
     "output_type": "execute_result"
    }
   ],
   "source": [
    "Parameter('kf',0.003)\n",
    "Parameter('kr',0.001)\n",
    "Parameter('kc',0.002)"
   ]
  },
  {
   "cell_type": "code",
   "execution_count": 7,
   "id": "87b9140d",
   "metadata": {},
   "outputs": [
    {
     "data": {
      "text/plain": [
       "Rule('binding', enzyme(binding1=None) + protein(binding=None, state='sub') | enzyme(binding1=1) % protein(binding=1, state='sub'), kf, kr)"
      ]
     },
     "execution_count": 7,
     "metadata": {},
     "output_type": "execute_result"
    }
   ],
   "source": [
    "Rule('binding', enzyme(binding1=None) + protein(state='sub', binding=None)\n",
    "     | enzyme(binding1=1) % protein(state='sub', binding=1), kf, kr)"
   ]
  },
  {
   "cell_type": "code",
   "execution_count": 8,
   "id": "ee37611b",
   "metadata": {},
   "outputs": [
    {
     "data": {
      "text/plain": [
       "Rule('dissociation', enzyme(binding1=1) % protein(binding=1, state='sub') >> enzyme(binding1=None) + protein(binding=None, state='pro'), kc)"
      ]
     },
     "execution_count": 8,
     "metadata": {},
     "output_type": "execute_result"
    }
   ],
   "source": [
    "Rule('dissociation', enzyme(binding1=1) % protein(state='sub', binding=1) \n",
    "     >> enzyme(binding1=None) + protein(state='pro', binding=None), kc)"
   ]
  },
  {
   "cell_type": "code",
   "execution_count": 9,
   "id": "090ee34e",
   "metadata": {},
   "outputs": [
    {
     "data": {
      "text/plain": [
       "Initial(protein(binding=None, state='sub'), protein_0)"
      ]
     },
     "execution_count": 9,
     "metadata": {},
     "output_type": "execute_result"
    }
   ],
   "source": [
    "Parameter('enzyme_0', 100)\n",
    "Parameter('protein_0', 50)\n",
    "Initial(enzyme(binding1=None), enzyme_0 )\n",
    "Initial(protein(binding=None, state='sub') , protein_0)"
   ]
  },
  {
   "cell_type": "code",
   "execution_count": 10,
   "id": "b1289d3e",
   "metadata": {},
   "outputs": [
    {
     "data": {
      "text/latex": [
       "$\\displaystyle complex$"
      ],
      "text/plain": [
       "Observable('complex', enzyme(binding1=1) % protein(binding=1, state='sub'))"
      ]
     },
     "execution_count": 10,
     "metadata": {},
     "output_type": "execute_result"
    }
   ],
   "source": [
    "Observable('e_total', enzyme())\n",
    "Observable('e_free', enzyme(binding1=None))\n",
    "Observable('substrate', protein(binding=None, state='sub'))\n",
    "Observable('product', protein(binding=None, state='pro'))\n",
    "Observable('complex', enzyme(binding1=1) % \n",
    "           protein(binding=1, state='sub'))"
   ]
  },
  {
   "cell_type": "code",
   "execution_count": null,
   "id": "b3a49484",
   "metadata": {},
   "outputs": [],
   "source": [
    "from pysb.integrate import odesolve\n",
    "import matplotlib.pyplot as plt\n",
    "import numpy as np\n",
    "import timeit\n",
    "\n",
    "tspan = np.linspace(0, 100, 100)\n",
    "\n",
    "def time_func():\n",
    "    y = odesolve(model, tspan)\n",
    " \n",
    "timeit.Timer(time_func).timeit(number=100)/100"
   ]
  },
  {
   "cell_type": "code",
   "execution_count": null,
   "id": "c01ea95e",
   "metadata": {},
   "outputs": [],
   "source": [
    "y = odesolve(model, tspan)\n",
    "\n",
    "plt.plot(tspan, y['substrate'], label=\"substrate\")\n",
    "plt.plot(tspan, y['e_total'], label=\"e_total\")\n",
    "plt.plot(tspan, y['e_free'], label=\"e_free\")\n",
    "plt.plot(tspan, y['product'], label=\"product\")\n",
    "plt.plot(tspan, y['complex'], label=\"complex\")\n",
    "plt.xlabel('time')\n",
    "plt.ylabel('population')\n",
    "plt.ylim(0,110)\n",
    "plt.legend(loc=0)\n",
    "plt.show()"
   ]
  },
  {
   "cell_type": "code",
   "execution_count": null,
   "id": "1a9add34",
   "metadata": {},
   "outputs": [],
   "source": []
  }
 ],
 "metadata": {
  "kernelspec": {
   "display_name": "Python 3 (ipykernel)",
   "language": "python",
   "name": "python3"
  },
  "language_info": {
   "codemirror_mode": {
    "name": "ipython",
    "version": 3
   },
   "file_extension": ".py",
   "mimetype": "text/x-python",
   "name": "python",
   "nbconvert_exporter": "python",
   "pygments_lexer": "ipython3",
   "version": "3.9.7"
  }
 },
 "nbformat": 4,
 "nbformat_minor": 5
}
