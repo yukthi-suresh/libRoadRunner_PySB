{
 "cells": [
  {
   "cell_type": "code",
   "execution_count": 1,
   "id": "39d6fea5",
   "metadata": {},
   "outputs": [],
   "source": [
    "from pysb import *"
   ]
  },
  {
   "cell_type": "code",
   "execution_count": 2,
   "id": "679307f6",
   "metadata": {},
   "outputs": [
    {
     "data": {
      "text/plain": [
       "<Model '_interactive_' (monomers: 0, rules: 0, parameters: 0, expressions: 0, compartments: 0) at 0x7f855ab8cd30>"
      ]
     },
     "execution_count": 2,
     "metadata": {},
     "output_type": "execute_result"
    }
   ],
   "source": [
    "Model()"
   ]
  },
  {
   "cell_type": "code",
   "execution_count": 3,
   "id": "7429b55f",
   "metadata": {},
   "outputs": [
    {
     "data": {
      "text/plain": [
       "Monomer('enzyme', ['binding1'])"
      ]
     },
     "execution_count": 3,
     "metadata": {},
     "output_type": "execute_result"
    }
   ],
   "source": [
    "Monomer('enzyme', ['binding1'])"
   ]
  },
  {
   "cell_type": "code",
   "execution_count": 4,
   "id": "434f5b19",
   "metadata": {},
   "outputs": [
    {
     "data": {
      "text/plain": [
       "Monomer('protein', ['binding', 'state'], {'state': ['sub', 'pro']})"
      ]
     },
     "execution_count": 4,
     "metadata": {},
     "output_type": "execute_result"
    }
   ],
   "source": [
    "Monomer('protein', ['binding', 'state'], {'state': ['sub','pro']})"
   ]
  },
  {
   "cell_type": "code",
   "execution_count": 5,
   "id": "faec1d19",
   "metadata": {},
   "outputs": [
    {
     "data": {
      "text/latex": [
       "$\\displaystyle kc$"
      ],
      "text/plain": [
       "Parameter('kc', 0.002)"
      ]
     },
     "execution_count": 5,
     "metadata": {},
     "output_type": "execute_result"
    }
   ],
   "source": [
    "Parameter('kf',0.003)\n",
    "Parameter('kr',0.001)\n",
    "Parameter('kc',0.002)"
   ]
  },
  {
   "cell_type": "code",
   "execution_count": 6,
   "id": "db8a4324",
   "metadata": {},
   "outputs": [
    {
     "data": {
      "text/plain": [
       "Rule('binding', enzyme(binding1=None) + protein(binding=None, state='sub') | enzyme(binding1=1) % protein(binding=1, state='sub'), kf, kr)"
      ]
     },
     "execution_count": 6,
     "metadata": {},
     "output_type": "execute_result"
    }
   ],
   "source": [
    "Rule('binding', enzyme(binding1=None) + protein(state='sub', binding=None)\n",
    "     | enzyme(binding1=1) % protein(state='sub', binding=1), kf, kr)"
   ]
  },
  {
   "cell_type": "code",
   "execution_count": 7,
   "id": "64e3cba6",
   "metadata": {},
   "outputs": [
    {
     "data": {
      "text/plain": [
       "Rule('dissociation', enzyme(binding1=1) % protein(binding=1, state='sub') >> enzyme(binding1=None) + protein(binding=None, state='pro'), kc)"
      ]
     },
     "execution_count": 7,
     "metadata": {},
     "output_type": "execute_result"
    }
   ],
   "source": [
    "Rule('dissociation', enzyme(binding1=1) % protein(state='sub', binding=1) \n",
    "     >> enzyme(binding1=None) + protein(state='pro', binding=None), kc)"
   ]
  },
  {
   "cell_type": "code",
   "execution_count": 8,
   "id": "5ae27822",
   "metadata": {},
   "outputs": [
    {
     "data": {
      "text/plain": [
       "Initial(protein(binding=None, state='sub'), protein_0)"
      ]
     },
     "execution_count": 8,
     "metadata": {},
     "output_type": "execute_result"
    }
   ],
   "source": [
    "Parameter('enzyme_0', 100)\n",
    "Parameter('protein_0', 50)\n",
    "Initial(enzyme(binding1=None), enzyme_0 )\n",
    "Initial(protein(binding=None, state='sub') , protein_0)"
   ]
  },
  {
   "cell_type": "code",
   "execution_count": 9,
   "id": "52611b27",
   "metadata": {},
   "outputs": [
    {
     "data": {
      "text/latex": [
       "$\\displaystyle complex$"
      ],
      "text/plain": [
       "Observable('complex', enzyme(binding1=1) % protein(binding=1, state='sub'))"
      ]
     },
     "execution_count": 9,
     "metadata": {},
     "output_type": "execute_result"
    }
   ],
   "source": [
    "Observable('e_total', enzyme())\n",
    "Observable('e_free', enzyme(binding1=None))\n",
    "Observable('substrate', protein(binding=None, state='sub'))\n",
    "Observable('product', protein(binding=None, state='pro'))\n",
    "Observable('complex', enzyme(binding1=1) % \n",
    "           protein(binding=1, state='sub'))"
   ]
  },
  {
   "cell_type": "code",
   "execution_count": 13,
   "id": "d9cfb8f1",
   "metadata": {},
   "outputs": [
    {
     "ename": "Exception",
     "evalue": "The program cupSODA was not found in the default search path(s) for your operating system:\n\n/usr/local/share/cupSODA\n/opt/anaconda3/bin\n/opt/anaconda3/condabin\n/usr/local/bin\n/usr/bin\n/bin\n/usr/sbin\n/sbin\n\nEither install it to one of those paths, or set a custom path using the environment variable CUPSODAPATH or by calling the function pysb.pathfinder.set_path()\n\nConda users can install cupSODA using the following command:\n\nconda install -c alubbock cupsoda",
     "output_type": "error",
     "traceback": [
      "\u001b[0;31m---------------------------------------------------------------------------\u001b[0m",
      "\u001b[0;31mException\u001b[0m                                 Traceback (most recent call last)",
      "\u001b[0;32m/var/folders/8h/dbqtk6xx5tv4r6wg1bz2qyxr0000gp/T/ipykernel_14822/3500503106.py\u001b[0m in \u001b[0;36m<module>\u001b[0;34m\u001b[0m\n\u001b[1;32m      4\u001b[0m \u001b[0;34m\u001b[0m\u001b[0m\n\u001b[1;32m      5\u001b[0m \u001b[0mtspan\u001b[0m \u001b[0;34m=\u001b[0m \u001b[0mnp\u001b[0m\u001b[0;34m.\u001b[0m\u001b[0mlinspace\u001b[0m\u001b[0;34m(\u001b[0m\u001b[0;36m0\u001b[0m\u001b[0;34m,\u001b[0m \u001b[0;36m100\u001b[0m\u001b[0;34m,\u001b[0m \u001b[0;36m100\u001b[0m\u001b[0;34m)\u001b[0m\u001b[0;34m\u001b[0m\u001b[0;34m\u001b[0m\u001b[0m\n\u001b[0;32m----> 6\u001b[0;31m \u001b[0my\u001b[0m \u001b[0;34m=\u001b[0m \u001b[0mrun_cupsoda\u001b[0m\u001b[0;34m(\u001b[0m\u001b[0mmodel\u001b[0m\u001b[0;34m,\u001b[0m \u001b[0mtspan\u001b[0m\u001b[0;34m)\u001b[0m\u001b[0;34m.\u001b[0m\u001b[0mall\u001b[0m\u001b[0;34m\u001b[0m\u001b[0;34m\u001b[0m\u001b[0m\n\u001b[0m",
      "\u001b[0;32m/opt/anaconda3/lib/python3.9/site-packages/pysb/simulator/cupsoda.py\u001b[0m in \u001b[0;36mrun_cupsoda\u001b[0;34m(model, tspan, initials, param_values, integrator, cleanup, verbose, **kwargs)\u001b[0m\n\u001b[1;32m    697\u001b[0m     sim = CupSodaSimulator(model, tspan=tspan, integrator=integrator,\n\u001b[1;32m    698\u001b[0m                            cleanup=cleanup, verbose=verbose, **kwargs)\n\u001b[0;32m--> 699\u001b[0;31m     \u001b[0msimres\u001b[0m \u001b[0;34m=\u001b[0m \u001b[0msim\u001b[0m\u001b[0;34m.\u001b[0m\u001b[0mrun\u001b[0m\u001b[0;34m(\u001b[0m\u001b[0minitials\u001b[0m\u001b[0;34m=\u001b[0m\u001b[0minitials\u001b[0m\u001b[0;34m,\u001b[0m \u001b[0mparam_values\u001b[0m\u001b[0;34m=\u001b[0m\u001b[0mparam_values\u001b[0m\u001b[0;34m)\u001b[0m\u001b[0;34m\u001b[0m\u001b[0;34m\u001b[0m\u001b[0m\n\u001b[0m\u001b[1;32m    700\u001b[0m     \u001b[0;32mreturn\u001b[0m \u001b[0msimres\u001b[0m\u001b[0;34m.\u001b[0m\u001b[0mall\u001b[0m\u001b[0;34m\u001b[0m\u001b[0;34m\u001b[0m\u001b[0m\n",
      "\u001b[0;32m/opt/anaconda3/lib/python3.9/site-packages/pysb/simulator/cupsoda.py\u001b[0m in \u001b[0;36mrun\u001b[0;34m(self, tspan, initials, param_values)\u001b[0m\n\u001b[1;32m    374\u001b[0m                                                      len(self.gpu))))\n\u001b[1;32m    375\u001b[0m \u001b[0;34m\u001b[0m\u001b[0m\n\u001b[0;32m--> 376\u001b[0;31m                 tout, trajectories = self._run_chunk(\n\u001b[0m\u001b[1;32m    377\u001b[0m                     \u001b[0mself\u001b[0m\u001b[0;34m.\u001b[0m\u001b[0mgpu\u001b[0m\u001b[0;34m,\u001b[0m \u001b[0moutdir\u001b[0m\u001b[0;34m,\u001b[0m \u001b[0mchunk_idx\u001b[0m\u001b[0;34m,\u001b[0m \u001b[0mcmtx\u001b[0m\u001b[0;34m,\u001b[0m \u001b[0msims\u001b[0m\u001b[0;34m,\u001b[0m\u001b[0;34m\u001b[0m\u001b[0;34m\u001b[0m\u001b[0m\n\u001b[1;32m    378\u001b[0m                     trajectories, tout)\n",
      "\u001b[0;32m/opt/anaconda3/lib/python3.9/site-packages/pysb/simulator/cupsoda.py\u001b[0m in \u001b[0;36m_run_chunk\u001b[0;34m(self, gpus, outdir, chunk_idx, cmtx, sims, trajectories, tout)\u001b[0m\n\u001b[1;32m    239\u001b[0m \u001b[0;34m\u001b[0m\u001b[0m\n\u001b[1;32m    240\u001b[0m         \u001b[0;31m# Path to cupSODA executable\u001b[0m\u001b[0;34m\u001b[0m\u001b[0;34m\u001b[0m\u001b[0m\n\u001b[0;32m--> 241\u001b[0;31m         \u001b[0mbin_path\u001b[0m \u001b[0;34m=\u001b[0m \u001b[0mget_path\u001b[0m\u001b[0;34m(\u001b[0m\u001b[0;34m'cupsoda'\u001b[0m\u001b[0;34m)\u001b[0m\u001b[0;34m\u001b[0m\u001b[0;34m\u001b[0m\u001b[0m\n\u001b[0m\u001b[1;32m    242\u001b[0m \u001b[0;34m\u001b[0m\u001b[0m\n\u001b[1;32m    243\u001b[0m         \u001b[0;31m# Start simulations\u001b[0m\u001b[0;34m\u001b[0m\u001b[0;34m\u001b[0m\u001b[0m\n",
      "\u001b[0;32m/opt/anaconda3/lib/python3.9/site-packages/pysb/pathfinder.py\u001b[0m in \u001b[0;36mget_path\u001b[0;34m(prog_name)\u001b[0m\n\u001b[1;32m    219\u001b[0m         \u001b[0mconda_install_help\u001b[0m \u001b[0;34m=\u001b[0m \u001b[0;34m''\u001b[0m\u001b[0;34m\u001b[0m\u001b[0;34m\u001b[0m\u001b[0m\n\u001b[1;32m    220\u001b[0m \u001b[0;34m\u001b[0m\u001b[0m\n\u001b[0;32m--> 221\u001b[0;31m     raise Exception('The program %s was not found in the default search '\n\u001b[0m\u001b[1;32m    222\u001b[0m                     \u001b[0;34m'path(s) for your operating system:\\n\\n%s\\n\\nEither '\u001b[0m\u001b[0;34m\u001b[0m\u001b[0;34m\u001b[0m\u001b[0m\n\u001b[1;32m    223\u001b[0m                     \u001b[0;34m'install it to one of those paths, or set a custom path '\u001b[0m\u001b[0;34m\u001b[0m\u001b[0;34m\u001b[0m\u001b[0m\n",
      "\u001b[0;31mException\u001b[0m: The program cupSODA was not found in the default search path(s) for your operating system:\n\n/usr/local/share/cupSODA\n/opt/anaconda3/bin\n/opt/anaconda3/condabin\n/usr/local/bin\n/usr/bin\n/bin\n/usr/sbin\n/sbin\n\nEither install it to one of those paths, or set a custom path using the environment variable CUPSODAPATH or by calling the function pysb.pathfinder.set_path()\n\nConda users can install cupSODA using the following command:\n\nconda install -c alubbock cupsoda"
     ]
    }
   ],
   "source": [
    "from pysb.simulator.cupsoda import run_cupsoda\n",
    "import numpy as np\n",
    "import matplotlib.pyplot as plt\n",
    "\n",
    "tspan = np.linspace(0, 100, 100)\n",
    "y = run_cupsoda(model, tspan).all"
   ]
  },
  {
   "cell_type": "code",
   "execution_count": null,
   "id": "82777da3",
   "metadata": {},
   "outputs": [],
   "source": []
  }
 ],
 "metadata": {
  "kernelspec": {
   "display_name": "Python 3 (ipykernel)",
   "language": "python",
   "name": "python3"
  },
  "language_info": {
   "codemirror_mode": {
    "name": "ipython",
    "version": 3
   },
   "file_extension": ".py",
   "mimetype": "text/x-python",
   "name": "python",
   "nbconvert_exporter": "python",
   "pygments_lexer": "ipython3",
   "version": "3.9.7"
  }
 },
 "nbformat": 4,
 "nbformat_minor": 5
}
