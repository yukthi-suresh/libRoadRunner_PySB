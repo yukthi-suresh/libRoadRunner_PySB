{
 "cells": [
  {
   "cell_type": "code",
   "execution_count": 1,
   "id": "399bb0f8",
   "metadata": {},
   "outputs": [],
   "source": [
    "from pysb import *"
   ]
  },
  {
   "cell_type": "code",
   "execution_count": 2,
   "id": "824f5937",
   "metadata": {},
   "outputs": [
    {
     "data": {
      "text/plain": [
       "<Model '_interactive_' (monomers: 0, rules: 0, parameters: 0, expressions: 0, compartments: 0) at 0x7fbe1448e670>"
      ]
     },
     "execution_count": 2,
     "metadata": {},
     "output_type": "execute_result"
    }
   ],
   "source": [
    "Model()"
   ]
  },
  {
   "cell_type": "code",
   "execution_count": 3,
   "id": "98452ed7",
   "metadata": {},
   "outputs": [
    {
     "data": {
      "text/plain": [
       "Monomer('enzyme', ['binding1'])"
      ]
     },
     "execution_count": 3,
     "metadata": {},
     "output_type": "execute_result"
    }
   ],
   "source": [
    "Monomer('enzyme', ['binding1'])"
   ]
  },
  {
   "cell_type": "code",
   "execution_count": 4,
   "id": "d5697e4f",
   "metadata": {},
   "outputs": [
    {
     "data": {
      "text/plain": [
       "Monomer('protein', ['binding', 'state'], {'state': ['sub', 'pro']})"
      ]
     },
     "execution_count": 4,
     "metadata": {},
     "output_type": "execute_result"
    }
   ],
   "source": [
    "Monomer('protein', ['binding', 'state'], {'state': ['sub','pro']})"
   ]
  },
  {
   "cell_type": "code",
   "execution_count": 5,
   "id": "9a45972b",
   "metadata": {},
   "outputs": [
    {
     "data": {
      "text/latex": [
       "$\\displaystyle kc$"
      ],
      "text/plain": [
       "Parameter('kc', 0.002)"
      ]
     },
     "execution_count": 5,
     "metadata": {},
     "output_type": "execute_result"
    }
   ],
   "source": [
    "Parameter('kf',0.003)\n",
    "Parameter('kr',0.001)\n",
    "Parameter('kc',0.002)"
   ]
  },
  {
   "cell_type": "code",
   "execution_count": 6,
   "id": "5775c4a0",
   "metadata": {},
   "outputs": [
    {
     "data": {
      "text/plain": [
       "Rule('binding', enzyme(binding1=None) + protein(binding=None, state='sub') | enzyme(binding1=1) % protein(binding=1, state='sub'), kf, kr)"
      ]
     },
     "execution_count": 6,
     "metadata": {},
     "output_type": "execute_result"
    }
   ],
   "source": [
    "Rule('binding', enzyme(binding1=None) + protein(state='sub', binding=None)\n",
    "     | enzyme(binding1=1) % protein(state='sub', binding=1), kf, kr)"
   ]
  },
  {
   "cell_type": "code",
   "execution_count": 7,
   "id": "9f3935d8",
   "metadata": {},
   "outputs": [
    {
     "data": {
      "text/plain": [
       "Rule('dissociation', enzyme(binding1=1) % protein(binding=1, state='sub') >> enzyme(binding1=None) + protein(binding=None, state='pro'), kc)"
      ]
     },
     "execution_count": 7,
     "metadata": {},
     "output_type": "execute_result"
    }
   ],
   "source": [
    "Rule('dissociation', enzyme(binding1=1) % protein(state='sub', binding=1) \n",
    "     >> enzyme(binding1=None) + protein(state='pro', binding=None), kc)"
   ]
  },
  {
   "cell_type": "code",
   "execution_count": 8,
   "id": "a6a1cc82",
   "metadata": {},
   "outputs": [
    {
     "data": {
      "text/plain": [
       "Initial(protein(binding=None, state='sub'), protein_0)"
      ]
     },
     "execution_count": 8,
     "metadata": {},
     "output_type": "execute_result"
    }
   ],
   "source": [
    "Parameter('enzyme_0', 100)\n",
    "Parameter('protein_0', 50)\n",
    "Initial(enzyme(binding1=None), enzyme_0 )\n",
    "Initial(protein(binding=None, state='sub') , protein_0)"
   ]
  },
  {
   "cell_type": "code",
   "execution_count": 9,
   "id": "cf625a27",
   "metadata": {},
   "outputs": [
    {
     "data": {
      "text/latex": [
       "$\\displaystyle complex$"
      ],
      "text/plain": [
       "Observable('complex', enzyme(binding1=1) % protein(binding=1, state='sub'))"
      ]
     },
     "execution_count": 9,
     "metadata": {},
     "output_type": "execute_result"
    }
   ],
   "source": [
    "Observable('e_total', enzyme())\n",
    "Observable('e_free', enzyme(binding1=None))\n",
    "Observable('substrate', protein(binding=None, state='sub'))\n",
    "Observable('product', protein(binding=None, state='pro'))\n",
    "Observable('complex', enzyme(binding1=1) % \n",
    "           protein(binding=1, state='sub'))"
   ]
  },
  {
   "cell_type": "code",
   "execution_count": 10,
   "id": "ce4ce630",
   "metadata": {},
   "outputs": [],
   "source": [
    "import roadrunner\n",
    "rr = roadrunner.RoadRunner()"
   ]
  },
  {
   "cell_type": "code",
   "execution_count": 11,
   "id": "4c1f3ce4",
   "metadata": {},
   "outputs": [],
   "source": [
    "from pysb import export"
   ]
  },
  {
   "cell_type": "code",
   "execution_count": 12,
   "id": "07a1878c",
   "metadata": {},
   "outputs": [],
   "source": [
    "sbml_model = export.export(model, 'sbml')"
   ]
  },
  {
   "cell_type": "code",
   "execution_count": 13,
   "id": "3a5ec23f",
   "metadata": {},
   "outputs": [],
   "source": [
    "rr = roadrunner.RoadRunner(sbml_model)\n",
    "rr_result = rr.simulate(0, 100, 100)"
   ]
  },
  {
   "cell_type": "code",
   "execution_count": 15,
   "id": "62c2d0a2",
   "metadata": {},
   "outputs": [
    {
     "data": {
      "image/png": "[encoded data removed]",
      "text/plain": [
       "<Figure size 432x288 with 1 Axes>"
      ]
     },
     "metadata": {
      "needs_background": "light"
     },
     "output_type": "display_data"
    },
    {
     "data": {
      "text/plain": [
       "[[<matplotlib.lines.Line2D at 0x7fbe1ab4d160>],\n",
       " [<matplotlib.lines.Line2D at 0x7fbe1ab4d430>],\n",
       " [<matplotlib.lines.Line2D at 0x7fbe1ab4d7c0>],\n",
       " [<matplotlib.lines.Line2D at 0x7fbe1ab4db50>]]"
      ]
     },
     "execution_count": 15,
     "metadata": {},
     "output_type": "execute_result"
    }
   ],
   "source": [
    "rr.plot(rr_result)"
   ]
  },
  {
   "cell_type": "code",
   "execution_count": null,
   "id": "b6f38930",
   "metadata": {},
   "outputs": [],
   "source": []
  }
 ],
 "metadata": {
  "kernelspec": {
   "display_name": "Python 3 (ipykernel)",
   "language": "python",
   "name": "python3"
  },
  "language_info": {
   "codemirror_mode": {
    "name": "ipython",
    "version": 3
   },
   "file_extension": ".py",
   "mimetype": "text/x-python",
   "name": "python",
   "nbconvert_exporter": "python",
   "pygments_lexer": "ipython3",
   "version": "3.9.7"
  }
 },
 "nbformat": 4,
 "nbformat_minor": 5
}
